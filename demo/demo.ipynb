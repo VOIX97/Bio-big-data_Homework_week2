{
 "cells": [
  {
   "cell_type": "code",
   "execution_count": 1,
   "metadata": {
    "scrolled": true
   },
   "outputs": [
    {
     "name": "stdout",
     "output_type": "stream",
     "text": [
      "usage: __main__.py [-h] -m {random-forest,svm,knn,k-means,dbscan,other}\n",
      "                   [-feature FEATURE] [-label LABEL]\n",
      "\n",
      "optional arguments:\n",
      "  -h, --help            show this help message and exit\n",
      "  -m {random-forest,svm,knn,k-means,dbscan,other}, --method {random-forest,svm,knn,k-means,dbscan,other}\n",
      "                        The processing method: random-forest, svm, knn,\n",
      "                        k-means, dbscan, other (default: None)\n",
      "  -feature FEATURE, --feature FEATURE\n",
      "                        The feature data (default: None)\n",
      "  -label LABEL, --label LABEL\n",
      "                        The label data (default: None)\n"
     ]
    }
   ],
   "source": [
    "!python -m biobigdata -h"
   ]
  },
  {
   "cell_type": "code",
   "execution_count": 2,
   "metadata": {
    "scrolled": true
   },
   "outputs": [
    {
     "name": "stdout",
     "output_type": "stream",
     "text": [
      "The auc is: 0.9708533653846154\n",
      "model svm works on the data, the accuracy rate is:  0.9396551724137931\n",
      "ROC curve figure [svm.png] has been saved, please check your folder!\n"
     ]
    }
   ],
   "source": [
    "!python -m biobigdata --method svm --feature data\\breast_cancer.csv --label data\\breast_cancer_class.csv"
   ]
  },
  {
   "cell_type": "code",
   "execution_count": 3,
   "metadata": {
    "scrolled": true
   },
   "outputs": [
    {
     "name": "stdout",
     "output_type": "stream",
     "text": [
      "model random-forest works on the data, the accuracy rate is:  0.9827586206896551\n",
      "ROC curve figure [random-forest.png] has been saved, please check your folder!\n"
     ]
    },
    {
     "name": "stderr",
     "output_type": "stream",
     "text": [
      "D:\\Python37\\lib\\site-packages\\sklearn\\ensemble\\forest.py:246: FutureWarning: The default value of n_estimators will change from 10 in version 0.20 to 100 in 0.22.\n",
      "  \"10 in version 0.20 to 100 in 0.22.\", FutureWarning)\n"
     ]
    }
   ],
   "source": [
    "!python -m biobigdata --method random-forest --feature data\\breast_cancer.csv --label data\\breast_cancer_class.csv"
   ]
  },
  {
   "cell_type": "code",
   "execution_count": 4,
   "metadata": {
    "scrolled": true
   },
   "outputs": [
    {
     "name": "stdout",
     "output_type": "stream",
     "text": [
      "AUC when n_neighbor is 4: 0.8909254807692307\n",
      "The score of this model when n_neighbor is 4: 0.75\n",
      "The accuracy of this model when n_neighbor is 4: 0.8275862068965517\n",
      "model knn works on the data, the accuracy rate is:  0.8275862068965517\n",
      "ROC curve figure [knn.png] has been saved, please check your folder!\n"
     ]
    }
   ],
   "source": [
    "!python -m biobigdata --method knn --feature data\\breast_cancer.csv --label data\\breast_cancer_class.csv"
   ]
  },
  {
   "cell_type": "code",
   "execution_count": 5,
   "metadata": {
    "scrolled": true
   },
   "outputs": [
    {
     "name": "stdout",
     "output_type": "stream",
     "text": [
      "Real label:\n",
      " [0 0 0 1 0 0 0 2 0 0 1 1 2 0 1 2 0 1 2 0 0 1 1 0 0 2 2 0 1 1 2 2 0 1 0 0 2\n",
      " 1 2 1 2 2 2 1 2 2 0 1 1 0 0 2 0 2 2 0 1 2 2 0 2 2 2 0 0 1 1 2 0 2 1 0 2 0\n",
      " 2 0 0 0 1 0 1 1 1 1 1 0 0 0 0 0 2 2 1 2 0 1 2 1 2 0 1 1 1 2 1 1 1 2 1 2 2\n",
      " 1 2 2 1 1 2 1 0 1 2 0 2 1 0 0 2 0 0 0 2 1 1 2 0 1 1 2 2 1 1 0 1 1 2 2 1 0\n",
      " 2 2]\n",
      "Predict label:\n",
      " [1 1 1 2 1 1 1 2 1 1 0 2 2 1 2 2 1 0 2 1 1 0 2 1 1 0 2 1 0 0 2 2 1 0 1 1 0\n",
      " 0 2 2 0 0 0 0 2 0 1 0 0 1 1 2 1 2 2 1 0 2 2 1 2 2 2 1 1 2 0 2 1 2 0 1 2 1\n",
      " 2 1 1 1 0 1 0 0 0 0 2 1 1 1 1 1 2 0 0 2 1 2 2 0 2 1 0 0 0 2 0 0 0 2 0 2 2\n",
      " 0 0 0 0 2 2 0 1 0 2 1 2 2 1 1 2 1 1 1 2 0 0 0 1 2 0 2 2 0 2 1 2 2 2 2 0 1\n",
      " 0 2]\n",
      "model k-means works on the data, the ari of cluster results is:  0.6201351808870379\n"
     ]
    }
   ],
   "source": [
    "!python -m biobigdata --method k-means --feature data\\iris.csv --label data\\iris_Species.csv"
   ]
  },
  {
   "cell_type": "code",
   "execution_count": 6,
   "metadata": {
    "scrolled": false
   },
   "outputs": [
    {
     "name": "stdout",
     "output_type": "stream",
     "text": [
      "Real label:\n",
      " [0 0 0 1 0 0 0 2 0 0 1 1 2 0 1 2 0 1 2 0 0 1 1 0 0 2 2 0 1 1 2 2 0 1 0 0 2\n",
      " 1 2 1 2 2 2 1 2 2 0 1 1 0 0 2 0 2 2 0 1 2 2 0 2 2 2 0 0 1 1 2 0 2 1 0 2 0\n",
      " 2 0 0 0 1 0 1 1 1 1 1 0 0 0 0 0 2 2 1 2 0 1 2 1 2 0 1 1 1 2 1 1 1 2 1 2 2\n",
      " 1 2 2 1 1 2 1 0 1 2 0 2 1 0 0 2 0 0 0 2 1 1 2 0 1 1 2 2 1 1 0 1 1 2 2 1 0\n",
      " 2 2]\n",
      "Predict label:\n",
      " [ 0  0  0  1  0  0  0  1  0  0  2  1  1  0  1  1  0  1  3  0  0 -1  1 -1\n",
      "  0  1  1  0  4  5 -1  1  0  5  0  0  1  1  1  1  1  1  1  1  1  1  0  1\n",
      "  1  0  0  1  0  1  1  0  1  1 -1 -1  6  1  1  0  0  1  1  1  0  1  7  0\n",
      "  1  0 -1  8  0 -1  1  0  7 -1  4  1 -1  0  0  0  0  0  1  1  1  1  0  1\n",
      "  1  1 -1  8  1  1  1  1  1  1  1  1  1  1  6  7  1  1  1  6  1 -1 -1 -1\n",
      "  3  0  1  1  0  0  1  0  0  0  1  2  5  1  0  1  1  1  1  1  1  0 -1  1\n",
      "  1  3  4  0  1  1]\n",
      "model dbscan works on the data, the ari of cluster results is:  0.4429902754716417\n"
     ]
    }
   ],
   "source": [
    "!python -m biobigdata --method dbscan --feature data\\iris.csv --label data\\iris_Species.csv"
   ]
  },
  {
   "cell_type": "code",
   "execution_count": null,
   "metadata": {},
   "outputs": [],
   "source": []
  }
 ],
 "metadata": {
  "kernelspec": {
   "display_name": "Python 3",
   "language": "python",
   "name": "python3"
  },
  "language_info": {
   "codemirror_mode": {
    "name": "ipython",
    "version": 3
   },
   "file_extension": ".py",
   "mimetype": "text/x-python",
   "name": "python",
   "nbconvert_exporter": "python",
   "pygments_lexer": "ipython3",
   "version": "3.7.1"
  }
 },
 "nbformat": 4,
 "nbformat_minor": 2
}
